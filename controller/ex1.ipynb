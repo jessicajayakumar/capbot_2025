{
 "cells": [
  {
   "cell_type": "markdown",
   "metadata": {},
   "source": [
    "## Exercise 1"
   ]
  },
  {
   "cell_type": "markdown",
   "metadata": {},
   "source": [
    "### 1.1 Scan and connect to your robot"
   ]
  },
  {
   "cell_type": "code",
   "execution_count": null,
   "metadata": {},
   "outputs": [],
   "source": [
    "from bas import *\n",
    "from rcs import *\n",
    "\n",
    "print('Scanning for robots...')\n",
    "\n",
    "robots = await scan()\n",
    "for bot in robots:\n",
    "    client = await connect(bot)\n",
    "    if client is None:\n",
    "        print(f'[WARN] Failed to connect with {bot.address}')\n",
    "        continue\n",
    "    try:\n",
    "        id = await read_id(client)\n",
    "    except:\n",
    "        id = 'None'\n",
    "    \n",
    "    finally:\n",
    "        vcap = await read_voltage(client)\n",
    "        print(f'\\tFound {client.address} with ID: {id} (Vcap = {vcap}V)')\n",
    "        await client.disconnect()"
   ]
  },
  {
   "cell_type": "markdown",
   "metadata": {},
   "source": [
    "If the robot ID is defined correctly in `robot/src/main.c`, you should see a correct printout of your robot information like this:\n",
    "\n",
    "```\n",
    "Found FB8E82CA-1DED-E4FF-80C7-871EE1498FF5 with ID: 0 (Vcap = 2.76V) # on a Macbook\n",
    "\n",
    "# or\n",
    "\n",
    "Found FC:89:11:2D:40:79 with ID: 0 (Vcap = 0.64V) # on a Windows machine\n",
    "```\n",
    "Now finish the following code block to connect to the robot and read the voltage, speed and angle of the robot (Note: battery percentage will be readable only if you finish ex2 of embedded side)"
   ]
  },
  {
   "cell_type": "code",
   "execution_count": null,
   "metadata": {},
   "outputs": [],
   "source": [
    "addr = 'FB8E82CA-1DED-E4FF-80C7-871EE1498FF5' # replace it with your robot address\n",
    "bot = await find(addr)\n",
    "client = await connect(bot)\n",
    "\n",
    "# to be finshed\n",
    "\n",
    "\n",
    "\n",
    "await client.disconnect()"
   ]
  },
  {
   "cell_type": "markdown",
   "metadata": {},
   "source": [
    "Note: modern jupyter notebook (IPython ≥ 7.0) holds an event loop, so you can directly call the async functions, but if you run your code in a `.py` script, you will have to use `asyncio` library. </br>\n",
    "Here is an simple example of `asyncio.run()`\n",
    "\n",
    "```python\n",
    "from rcs import *\n",
    "\n",
    "async def main():\n",
    "    addr = 'FB8E82CA-1DED-E4FF-80C7-871EE1498FF5' # replace it with your robot address\n",
    "    bot = await find(addr)\n",
    "    client = await connect(bot)\n",
    "    \n",
    "    voltage = await read_voltage(client)\n",
    "    \n",
    "    print(voltage)\n",
    "    await client.disconnect()\n",
    "\n",
    "if __name__ == '__main__':\n",
    "    asyncio.run(main())\n",
    "```\n",
    "For more information, please check https://docs.python.org/3/library/asyncio-task.html\n"
   ]
  },
  {
   "cell_type": "markdown",
   "metadata": {},
   "source": [
    "### Now please go back to the document to see 1.2 before exercise 1.2"
   ]
  },
  {
   "cell_type": "markdown",
   "metadata": {},
   "source": [
    "### 1.2 MQTT\n",
    "\n",
    "Please write a script to </br>\n",
    "    1. read the voltage, speed, angle and battery percentage (if finished ex2 of embedded side) of the robot </br>\n",
    "    2. publish to the right channel with right data format once per second </br>\n",
    "    3. subscribe to the right channel to receive the location data of the robot"
   ]
  },
  {
   "cell_type": "code",
   "execution_count": null,
   "metadata": {},
   "outputs": [],
   "source": [
    "import paho.mqtt.client as mqtt\n",
    "import json\n",
    "from bas import *\n",
    "from rcs import *\n",
    "\n",
    "id = 0 # replace it with your robot id\n",
    "addr = 'FB8E82CA-1DED-E4FF-80C7-871EE1498FF5' # replace it with your robot address\n",
    "bot = await find(addr)\n",
    "client = await connect(bot)\n",
    "\n",
    "# to be finshed\n",
    "\n",
    "\n",
    "await client.disconnect()"
   ]
  }
 ],
 "metadata": {
  "kernelspec": {
   "display_name": "base",
   "language": "python",
   "name": "python3"
  },
  "language_info": {
   "codemirror_mode": {
    "name": "ipython",
    "version": 3
   },
   "file_extension": ".py",
   "mimetype": "text/x-python",
   "name": "python",
   "nbconvert_exporter": "python",
   "pygments_lexer": "ipython3",
   "version": "3.12.2"
  }
 },
 "nbformat": 4,
 "nbformat_minor": 2
}
