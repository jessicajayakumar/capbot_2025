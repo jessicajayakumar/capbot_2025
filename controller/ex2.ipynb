{
 "cells": [
  {
   "cell_type": "markdown",
   "metadata": {},
   "source": [
    "## Exercise 2"
   ]
  },
  {
   "cell_type": "markdown",
   "metadata": {},
   "source": [
    "### 2.1 Drive your robot\n",
    "\n",
    "The following example shows how to drive your robot forward. Please revise the code to drive your robot backward and also to the left/right, diagonal, clockwise..."
   ]
  },
  {
   "cell_type": "code",
   "execution_count": null,
   "metadata": {},
   "outputs": [],
   "source": [
    "import paho.mqtt.client as mqtt\n",
    "from rcs import *\n",
    "\n",
    "id = 0 # replace it with your robot id\n",
    "addr = 'FB8E82CA-1DED-E4FF-80C7-871EE1498FF5' # replace it with your robot address\n",
    "bot = await find(addr)\n",
    "client = await connect(bot)\n",
    "\n",
    "speeds = {'front_left': 80, 'front_right': 80, 'back_left': 80, 'back_right': 80} # this is going forward, revise to drive it backward, to the left/right...\n",
    "\n",
    "await set_motors(client, speeds, 1000)\n",
    "\n",
    "await client.disconnect()"
   ]
  },
  {
   "cell_type": "markdown",
   "metadata": {},
   "source": [
    "### 2.2 Drive your robot with your keyboard\n",
    "\n",
    "Here is an example of driving your robot forward by pressing 'w' and backward by pressing 's', </br>\n",
    "Please finish the `MOVEMENTS` dictionary to bind your keyboard with your robot"
   ]
  },
  {
   "cell_type": "code",
   "execution_count": null,
   "metadata": {},
   "outputs": [],
   "source": [
    "import asyncio\n",
    "from pynput import keyboard\n",
    "from rcs import *\n",
    "\n",
    "\n",
    "id = 0  # Replace with your robot id\n",
    "addr = 'FB8E82CA-1DED-E4FF-80C7-871EE1498FF5'  # Replace with your robot address\n",
    "bot = await find(addr)\n",
    "client = await connect(bot)\n",
    "print('Robot initialized.')\n",
    "\n",
    "\n",
    "MOVEMENTS = {\n",
    "    'w': {'front_left': 80, 'front_right': 80, 'back_left': 80, 'back_right': 80},      # forward\n",
    "    's': {'front_left': -80, 'front_right': -80, 'back_left': -80, 'back_right': -80},  # backward\n",
    "    \n",
    "    # to be finished\n",
    "    \n",
    "}\n",
    "\n",
    "# Create a global event loop for async tasks\n",
    "loop = asyncio.get_running_loop()\n",
    "\n",
    "def on_press(key):\n",
    "    try:\n",
    "        if key.char in MOVEMENTS:\n",
    "            asyncio.run_coroutine_threadsafe(set_motors(client, MOVEMENTS[key.char], 100), loop)\n",
    "    except AttributeError:\n",
    "        pass\n",
    "\n",
    "def on_release(key):\n",
    "    if key == keyboard.Key.esc:\n",
    "        # Keep the event loop running until the user presses esc\n",
    "        asyncio.run_coroutine_threadsafe(client.disconnect(), loop)\n",
    "        return False\n",
    "\n",
    "# Start keyboard listener\n",
    "listener = keyboard.Listener(on_press=on_press, on_release=on_release)\n",
    "listener.start()\n"
   ]
  },
  {
   "cell_type": "markdown",
   "metadata": {},
   "source": [
    "### 2.3 Drive your robot and update the status using MQTT\n",
    "\n",
    "Please combine the keyboard control code with the MQTT, and drive your robot to the charging station"
   ]
  },
  {
   "cell_type": "code",
   "execution_count": null,
   "metadata": {},
   "outputs": [],
   "source": []
  }
 ],
 "metadata": {
  "kernelspec": {
   "display_name": "base",
   "language": "python",
   "name": "python3"
  },
  "language_info": {
   "codemirror_mode": {
    "name": "ipython",
    "version": 3
   },
   "file_extension": ".py",
   "mimetype": "text/x-python",
   "name": "python",
   "nbconvert_exporter": "python",
   "pygments_lexer": "ipython3",
   "version": "3.12.2"
  }
 },
 "nbformat": 4,
 "nbformat_minor": 2
}
